{
  "cells": [
    {
      "cell_type": "markdown",
      "metadata": {
        "id": "view-in-github",
        "colab_type": "text"
      },
      "source": [
        "<a href=\"https://colab.research.google.com/github/ritwiks9635/Unsupervised_Learning_projects/blob/main/Mobile_Recommendation_System.ipynb\" target=\"_parent\"><img src=\"https://colab.research.google.com/assets/colab-badge.svg\" alt=\"Open In Colab\"/></a>"
      ]
    },
    {
      "cell_type": "markdown",
      "source": [
        "# 📱📱📱📱📱📱📱📱📱📱**Mobile Recommendations System**📲📱📱📱📱📱📱"
      ],
      "metadata": {
        "id": "8jdBCRrGeygg"
      }
    },
    {
      "cell_type": "code",
      "source": [
        "! unzip /content/https:/www.kaggle.com/datasets/gyanprakashkushwaha/mobile-recommendation-system-dataset/mobile-recommendation-system-dataset.zip"
      ],
      "metadata": {
        "colab": {
          "base_uri": "https://localhost:8080/"
        },
        "id": "3pvin-5jVyEr",
        "outputId": "4848c371-f147-4deb-b7d8-1e11c3d9a3fb"
      },
      "execution_count": null,
      "outputs": [
        {
          "output_type": "stream",
          "name": "stdout",
          "text": [
            "Archive:  /content/https:/www.kaggle.com/datasets/gyanprakashkushwaha/mobile-recommendation-system-dataset/mobile-recommendation-system-dataset.zip\n",
            "  inflating: mobile_recommendation_system_dataset.csv  \n"
          ]
        }
      ]
    },
    {
      "cell_type": "code",
      "source": [
        "import numpy as np\n",
        "import pandas as pd"
      ],
      "metadata": {
        "id": "n22kRz3tV6Iq"
      },
      "execution_count": null,
      "outputs": []
    },
    {
      "cell_type": "code",
      "source": [
        "data = pd.read_csv(\"mobile_recommendation_system_dataset.csv\")\n",
        "data.head()"
      ],
      "metadata": {
        "colab": {
          "base_uri": "https://localhost:8080/",
          "height": 634
        },
        "id": "DcXi_1Weo6-S",
        "outputId": "ab26f6da-ddd3-443c-e4da-9075db140e7d"
      },
      "execution_count": null,
      "outputs": [
        {
          "output_type": "execute_result",
          "data": {
            "text/plain": [
              "                                        name  ratings    price  \\\n",
              "0  REDMI Note 12 Pro 5G (Onyx Black, 128 GB)      4.2    23999   \n",
              "1        OPPO F11 Pro (Aurora Green, 128 GB)      4.5  ₹20,999   \n",
              "2     REDMI Note 11 (Starburst White, 64 GB)      4.2    13149   \n",
              "3     OnePlus Nord CE 5G (Blue Void, 256 GB)      4.1    21999   \n",
              "4        APPLE iPhone 13 mini (Blue, 128 GB)      4.6     3537   \n",
              "\n",
              "                                              imgURL  \\\n",
              "0  https://rukminim2.flixcart.com/image/312/312/x...   \n",
              "1  https://rukminim2.flixcart.com/image/312/312/k...   \n",
              "2  https://rukminim2.flixcart.com/image/312/312/x...   \n",
              "3  https://rukminim2.flixcart.com/image/312/312/x...   \n",
              "4  https://rukminim2.flixcart.com/image/312/312/k...   \n",
              "\n",
              "                                              corpus  \n",
              "0  Storage128 GBRAM6  SystemAndroid 12Processor T...  \n",
              "1  Storage128 GBRAM6 GBExpandable Storage256GB  S...  \n",
              "2  Storage64 GBRAM4  SystemAndroid 11Processor Sp...  \n",
              "3  Storage256 GBRAM12  SystemAndroid Q 11Processo...  \n",
              "4  Storage128  SystemiOS 15Processor TypeA15 Bion...  "
            ],
            "text/html": [
              "\n",
              "\n",
              "  <div id=\"df-27cd1b1b-1efa-499d-8e10-84f604dd8b97\">\n",
              "    <div class=\"colab-df-container\">\n",
              "      <div>\n",
              "<style scoped>\n",
              "    .dataframe tbody tr th:only-of-type {\n",
              "        vertical-align: middle;\n",
              "    }\n",
              "\n",
              "    .dataframe tbody tr th {\n",
              "        vertical-align: top;\n",
              "    }\n",
              "\n",
              "    .dataframe thead th {\n",
              "        text-align: right;\n",
              "    }\n",
              "</style>\n",
              "<table border=\"1\" class=\"dataframe\">\n",
              "  <thead>\n",
              "    <tr style=\"text-align: right;\">\n",
              "      <th></th>\n",
              "      <th>name</th>\n",
              "      <th>ratings</th>\n",
              "      <th>price</th>\n",
              "      <th>imgURL</th>\n",
              "      <th>corpus</th>\n",
              "    </tr>\n",
              "  </thead>\n",
              "  <tbody>\n",
              "    <tr>\n",
              "      <th>0</th>\n",
              "      <td>REDMI Note 12 Pro 5G (Onyx Black, 128 GB)</td>\n",
              "      <td>4.2</td>\n",
              "      <td>23999</td>\n",
              "      <td>https://rukminim2.flixcart.com/image/312/312/x...</td>\n",
              "      <td>Storage128 GBRAM6  SystemAndroid 12Processor T...</td>\n",
              "    </tr>\n",
              "    <tr>\n",
              "      <th>1</th>\n",
              "      <td>OPPO F11 Pro (Aurora Green, 128 GB)</td>\n",
              "      <td>4.5</td>\n",
              "      <td>₹20,999</td>\n",
              "      <td>https://rukminim2.flixcart.com/image/312/312/k...</td>\n",
              "      <td>Storage128 GBRAM6 GBExpandable Storage256GB  S...</td>\n",
              "    </tr>\n",
              "    <tr>\n",
              "      <th>2</th>\n",
              "      <td>REDMI Note 11 (Starburst White, 64 GB)</td>\n",
              "      <td>4.2</td>\n",
              "      <td>13149</td>\n",
              "      <td>https://rukminim2.flixcart.com/image/312/312/x...</td>\n",
              "      <td>Storage64 GBRAM4  SystemAndroid 11Processor Sp...</td>\n",
              "    </tr>\n",
              "    <tr>\n",
              "      <th>3</th>\n",
              "      <td>OnePlus Nord CE 5G (Blue Void, 256 GB)</td>\n",
              "      <td>4.1</td>\n",
              "      <td>21999</td>\n",
              "      <td>https://rukminim2.flixcart.com/image/312/312/x...</td>\n",
              "      <td>Storage256 GBRAM12  SystemAndroid Q 11Processo...</td>\n",
              "    </tr>\n",
              "    <tr>\n",
              "      <th>4</th>\n",
              "      <td>APPLE iPhone 13 mini (Blue, 128 GB)</td>\n",
              "      <td>4.6</td>\n",
              "      <td>3537</td>\n",
              "      <td>https://rukminim2.flixcart.com/image/312/312/k...</td>\n",
              "      <td>Storage128  SystemiOS 15Processor TypeA15 Bion...</td>\n",
              "    </tr>\n",
              "  </tbody>\n",
              "</table>\n",
              "</div>\n",
              "      <button class=\"colab-df-convert\" onclick=\"convertToInteractive('df-27cd1b1b-1efa-499d-8e10-84f604dd8b97')\"\n",
              "              title=\"Convert this dataframe to an interactive table.\"\n",
              "              style=\"display:none;\">\n",
              "\n",
              "  <svg xmlns=\"http://www.w3.org/2000/svg\" height=\"24px\"viewBox=\"0 0 24 24\"\n",
              "       width=\"24px\">\n",
              "    <path d=\"M0 0h24v24H0V0z\" fill=\"none\"/>\n",
              "    <path d=\"M18.56 5.44l.94 2.06.94-2.06 2.06-.94-2.06-.94-.94-2.06-.94 2.06-2.06.94zm-11 1L8.5 8.5l.94-2.06 2.06-.94-2.06-.94L8.5 2.5l-.94 2.06-2.06.94zm10 10l.94 2.06.94-2.06 2.06-.94-2.06-.94-.94-2.06-.94 2.06-2.06.94z\"/><path d=\"M17.41 7.96l-1.37-1.37c-.4-.4-.92-.59-1.43-.59-.52 0-1.04.2-1.43.59L10.3 9.45l-7.72 7.72c-.78.78-.78 2.05 0 2.83L4 21.41c.39.39.9.59 1.41.59.51 0 1.02-.2 1.41-.59l7.78-7.78 2.81-2.81c.8-.78.8-2.07 0-2.86zM5.41 20L4 18.59l7.72-7.72 1.47 1.35L5.41 20z\"/>\n",
              "  </svg>\n",
              "      </button>\n",
              "\n",
              "\n",
              "\n",
              "    <div id=\"df-e56f2a76-10ee-49d3-a65d-c8028c6af95f\">\n",
              "      <button class=\"colab-df-quickchart\" onclick=\"quickchart('df-e56f2a76-10ee-49d3-a65d-c8028c6af95f')\"\n",
              "              title=\"Suggest charts.\"\n",
              "              style=\"display:none;\">\n",
              "\n",
              "<svg xmlns=\"http://www.w3.org/2000/svg\" height=\"24px\"viewBox=\"0 0 24 24\"\n",
              "     width=\"24px\">\n",
              "    <g>\n",
              "        <path d=\"M19 3H5c-1.1 0-2 .9-2 2v14c0 1.1.9 2 2 2h14c1.1 0 2-.9 2-2V5c0-1.1-.9-2-2-2zM9 17H7v-7h2v7zm4 0h-2V7h2v10zm4 0h-2v-4h2v4z\"/>\n",
              "    </g>\n",
              "</svg>\n",
              "      </button>\n",
              "    </div>\n",
              "\n",
              "<style>\n",
              "  .colab-df-quickchart {\n",
              "    background-color: #E8F0FE;\n",
              "    border: none;\n",
              "    border-radius: 50%;\n",
              "    cursor: pointer;\n",
              "    display: none;\n",
              "    fill: #1967D2;\n",
              "    height: 32px;\n",
              "    padding: 0 0 0 0;\n",
              "    width: 32px;\n",
              "  }\n",
              "\n",
              "  .colab-df-quickchart:hover {\n",
              "    background-color: #E2EBFA;\n",
              "    box-shadow: 0px 1px 2px rgba(60, 64, 67, 0.3), 0px 1px 3px 1px rgba(60, 64, 67, 0.15);\n",
              "    fill: #174EA6;\n",
              "  }\n",
              "\n",
              "  [theme=dark] .colab-df-quickchart {\n",
              "    background-color: #3B4455;\n",
              "    fill: #D2E3FC;\n",
              "  }\n",
              "\n",
              "  [theme=dark] .colab-df-quickchart:hover {\n",
              "    background-color: #434B5C;\n",
              "    box-shadow: 0px 1px 3px 1px rgba(0, 0, 0, 0.15);\n",
              "    filter: drop-shadow(0px 1px 2px rgba(0, 0, 0, 0.3));\n",
              "    fill: #FFFFFF;\n",
              "  }\n",
              "</style>\n",
              "\n",
              "    <script>\n",
              "      async function quickchart(key) {\n",
              "        const containerElement = document.querySelector('#' + key);\n",
              "        const charts = await google.colab.kernel.invokeFunction(\n",
              "            'suggestCharts', [key], {});\n",
              "      }\n",
              "    </script>\n",
              "\n",
              "      <script>\n",
              "\n",
              "function displayQuickchartButton(domScope) {\n",
              "  let quickchartButtonEl =\n",
              "    domScope.querySelector('#df-e56f2a76-10ee-49d3-a65d-c8028c6af95f button.colab-df-quickchart');\n",
              "  quickchartButtonEl.style.display =\n",
              "    google.colab.kernel.accessAllowed ? 'block' : 'none';\n",
              "}\n",
              "\n",
              "        displayQuickchartButton(document);\n",
              "      </script>\n",
              "      <style>\n",
              "    .colab-df-container {\n",
              "      display:flex;\n",
              "      flex-wrap:wrap;\n",
              "      gap: 12px;\n",
              "    }\n",
              "\n",
              "    .colab-df-convert {\n",
              "      background-color: #E8F0FE;\n",
              "      border: none;\n",
              "      border-radius: 50%;\n",
              "      cursor: pointer;\n",
              "      display: none;\n",
              "      fill: #1967D2;\n",
              "      height: 32px;\n",
              "      padding: 0 0 0 0;\n",
              "      width: 32px;\n",
              "    }\n",
              "\n",
              "    .colab-df-convert:hover {\n",
              "      background-color: #E2EBFA;\n",
              "      box-shadow: 0px 1px 2px rgba(60, 64, 67, 0.3), 0px 1px 3px 1px rgba(60, 64, 67, 0.15);\n",
              "      fill: #174EA6;\n",
              "    }\n",
              "\n",
              "    [theme=dark] .colab-df-convert {\n",
              "      background-color: #3B4455;\n",
              "      fill: #D2E3FC;\n",
              "    }\n",
              "\n",
              "    [theme=dark] .colab-df-convert:hover {\n",
              "      background-color: #434B5C;\n",
              "      box-shadow: 0px 1px 3px 1px rgba(0, 0, 0, 0.15);\n",
              "      filter: drop-shadow(0px 1px 2px rgba(0, 0, 0, 0.3));\n",
              "      fill: #FFFFFF;\n",
              "    }\n",
              "  </style>\n",
              "\n",
              "      <script>\n",
              "        const buttonEl =\n",
              "          document.querySelector('#df-27cd1b1b-1efa-499d-8e10-84f604dd8b97 button.colab-df-convert');\n",
              "        buttonEl.style.display =\n",
              "          google.colab.kernel.accessAllowed ? 'block' : 'none';\n",
              "\n",
              "        async function convertToInteractive(key) {\n",
              "          const element = document.querySelector('#df-27cd1b1b-1efa-499d-8e10-84f604dd8b97');\n",
              "          const dataTable =\n",
              "            await google.colab.kernel.invokeFunction('convertToInteractive',\n",
              "                                                     [key], {});\n",
              "          if (!dataTable) return;\n",
              "\n",
              "          const docLinkHtml = 'Like what you see? Visit the ' +\n",
              "            '<a target=\"_blank\" href=https://colab.research.google.com/notebooks/data_table.ipynb>data table notebook</a>'\n",
              "            + ' to learn more about interactive tables.';\n",
              "          element.innerHTML = '';\n",
              "          dataTable['output_type'] = 'display_data';\n",
              "          await google.colab.output.renderOutput(dataTable, element);\n",
              "          const docLink = document.createElement('div');\n",
              "          docLink.innerHTML = docLinkHtml;\n",
              "          element.appendChild(docLink);\n",
              "        }\n",
              "      </script>\n",
              "    </div>\n",
              "  </div>\n"
            ]
          },
          "metadata": {},
          "execution_count": 29
        }
      ]
    },
    {
      "cell_type": "code",
      "source": [
        "data.shape"
      ],
      "metadata": {
        "colab": {
          "base_uri": "https://localhost:8080/"
        },
        "id": "5gedc2K-pGKw",
        "outputId": "90f09042-3904-4989-edad-c56eefb42666"
      },
      "execution_count": null,
      "outputs": [
        {
          "output_type": "execute_result",
          "data": {
            "text/plain": [
              "(2546, 5)"
            ]
          },
          "metadata": {},
          "execution_count": 30
        }
      ]
    },
    {
      "cell_type": "code",
      "source": [
        "data.isnull().sum()"
      ],
      "metadata": {
        "colab": {
          "base_uri": "https://localhost:8080/"
        },
        "id": "k_f485hLpOTY",
        "outputId": "b321d4c4-3fb3-48f0-a039-04c935c78c8c"
      },
      "execution_count": null,
      "outputs": [
        {
          "output_type": "execute_result",
          "data": {
            "text/plain": [
              "name        0\n",
              "ratings     0\n",
              "price       0\n",
              "imgURL      0\n",
              "corpus     12\n",
              "dtype: int64"
            ]
          },
          "metadata": {},
          "execution_count": 31
        }
      ]
    },
    {
      "cell_type": "code",
      "source": [
        "data.dropna(inplace=True)"
      ],
      "metadata": {
        "id": "mjmHoI9-pSXT"
      },
      "execution_count": null,
      "outputs": []
    },
    {
      "cell_type": "code",
      "source": [
        "data.isnull().sum()"
      ],
      "metadata": {
        "colab": {
          "base_uri": "https://localhost:8080/"
        },
        "id": "39GNqzxepetV",
        "outputId": "dedfd2be-e368-4720-dad6-ef56234ef3a0"
      },
      "execution_count": null,
      "outputs": [
        {
          "output_type": "execute_result",
          "data": {
            "text/plain": [
              "name       0\n",
              "ratings    0\n",
              "price      0\n",
              "imgURL     0\n",
              "corpus     0\n",
              "dtype: int64"
            ]
          },
          "metadata": {},
          "execution_count": 33
        }
      ]
    },
    {
      "cell_type": "code",
      "source": [
        "data.corpus[63]"
      ],
      "metadata": {
        "colab": {
          "base_uri": "https://localhost:8080/",
          "height": 191
        },
        "id": "YoGr5GcxphrF",
        "outputId": "d5d26bd0-94fd-49bb-d309-cf62062b4bfc"
      },
      "execution_count": null,
      "outputs": [
        {
          "output_type": "execute_result",
          "data": {
            "text/plain": [
              "'Storage128 GBRAM4 GBExpandable Storage1TB  SystemAndroid 13Processor TypeExynos 1330, Octa CoreProcessor Speed2.4 50MP 2MP 50MP 2MP 13MP 13MP 2G Capacity6000 Display Size16.76 cm (6.6 inch)Resolution2408 x 1080 PixelsResolution TypeFull HD+GPUARM Mali G68 MP2Display TypeFull HD+ LCD DisplayHD Game SupportYesDisplay Colors16 MillionOther Display FeaturesIn-Cell Touch Display'"
            ],
            "application/vnd.google.colaboratory.intrinsic+json": {
              "type": "string"
            }
          },
          "metadata": {},
          "execution_count": 61
        }
      ]
    },
    {
      "cell_type": "code",
      "source": [],
      "metadata": {
        "id": "tc_TS0OHrYLN"
      },
      "execution_count": null,
      "outputs": []
    },
    {
      "cell_type": "code",
      "source": [
        "def random_values(col_name:str,total=6):\n",
        "    for i in range(0,total):\n",
        "        index = np.random.randint(data.shape[0])\n",
        "        print(index,':',data[col_name].iloc[index])"
      ],
      "metadata": {
        "id": "tE3VBZp6prj7"
      },
      "execution_count": null,
      "outputs": []
    },
    {
      "cell_type": "code",
      "source": [
        "random_values('corpus')"
      ],
      "metadata": {
        "colab": {
          "base_uri": "https://localhost:8080/"
        },
        "id": "qqIbWRP5p040",
        "outputId": "267a7df5-f939-4451-fa94-3b9c48c85d2b"
      },
      "execution_count": null,
      "outputs": [
        {
          "output_type": "stream",
          "name": "stdout",
          "text": [
            "2124 : Storage32 GBRAM3  SystemAndroid 12Processor TypeMediaTek P22Processor Speed2 8MP 8MP 5MP 5MP 4G Capacity5000 Display Size16.54 cm (6.51 inch)Resolution1600 x 720Resolution TypeHD+Display TypeHD+ LCD (IPS) Display\n",
            "63 : Storage64 GBRAM4 GBExpandable Storage256GB  SystemAndroid Pie 9.0Processor TypeMediaTek Helio P70 Octa Core 2.1 GHz AIProcessor Speed2.1 13MP 2MP 13MP 3G Capacity4230 Display Size15.8 cm (6.22 inch)Resolution1520 x 720 pixelsResolution TypeHD+GPUARM Mali-G72Display Colors16.7MOther Display FeaturesNarrow Frame: 2.05mm, Screen Ratio: 88.30%, Screen Contrast: Typical - 1200:1, Minimum - 800:1, Color Saturation: Typical - 69.5%, Minimum - 65%, Maximum Brightness: Typical - 450 nits, Minimum - 400 nits, Touch Panel Glass Type: Corning Gorilla Glass 3, In-cell Touch Panel Technology, LCD IPS Screen\n",
            "1245 : Storage128 GBRAM8 GBTotal Memory128GB  SystemAndroid Pie 9Processor TypeQualcomm SM6150Processor Speed2 48MP 8MP 5MP 2MP 13MP 5G Capacity5000 Display Size16.26 cm (6.4 inch)Resolution2400 x 1080 PixelsResolution TypeFull HD+GPUARM Mali G68 MP4Display TypeSuper AMOLEDDisplay Colors16M\n",
            "313 : Storage32 GBRAM3 GBExpandable Storage256GB  SystemAndroid Pie 9.0Processor TypeQualcomm Snapdragon 665 2 GHzProcessor Speed2 12MP 8MP 2MP 2MP 12MP 8MP 12MP 8MP 13MP 3G Capacity5000 Display Size16.51 cm (6.5 inch)Resolution720 x 1600 pixelsResolution TypeHD+GPUAdreno 610Display Colors16.7MOther Display FeaturesTouch Panel Technology - in-cell, Bazel - AA to TP Edge: 1.98, AA to Phone Edge : 3.85, AA to TP Upper Panel Edge : 2.44, AA to Phone Edge: 4.66, AA to TP Lower Panel Edge: 6.6, AA to Phone Edge: 8.82, Screen Ratio - 89%, Screen Contrast - 1200:1 (Typ) / 900: 1 (Min), Screen Refresh Rate - 60Hz, Color Saturation - NTSC 72%, Maximum Brightness - 480 (Typ) / 400 (Min), Corning Gorilla Glass 3+, 10 Touch Points, Touch Screen Supplier - AUO, HOLITECH\n",
            "892 : Storage512  SystemiOS 16Processor TypeA16 Bionic Chip 48MP 12MP 12MP 48MP 12MP 12MP 63MP 12MP 12MP 5G notMentioned Display Size15.49 cm (6.1 inch)Resolution2556 x 1179 PixelsResolution TypeSuper Retina XDR DisplayGPU5 CoreDisplay TypeSuper Retina XDR DisplayOther Display FeaturesDynamic Island, Always-On Display, Pro Motion Technology with Adaptive Refresh Rates Upto 120 Hz, HDR Display, True Tone, Wide Colour (P3), Haptic Touch, Contrast Ratio: 20,00,000:1, Max Brightness: 1,000 nits, Peak Brightness: 1,600 nits, Peak Brightness (Outdoor): 2,000 nits\n",
            "940 : Storage128 GBRAM6 GBExpandable Storage512GB  SystemAndroid 10Processor TypeExynos 9611Processor Speed2.3 48MP 12MP 5MP 5MP 48MP 12MP 5MP 5MP 32MP 32MP 4G Capacity4000 Display Size16.51 cm (6.5 inch)Resolution2340 x 1080 PixelsResolution TypeFull HD+GPUARM | Mali G72 MP3Display TypeSuper AMOLED Infinity-O DisplayDisplay Colors16M\n"
          ]
        }
      ]
    },
    {
      "cell_type": "code",
      "source": [
        "data[\"corpus\"] = data[\"corpus\"].apply(lambda x : x.lower())"
      ],
      "metadata": {
        "id": "NWIZ4qh5rgHt"
      },
      "execution_count": null,
      "outputs": []
    },
    {
      "cell_type": "code",
      "source": [
        "random_values('corpus')"
      ],
      "metadata": {
        "colab": {
          "base_uri": "https://localhost:8080/"
        },
        "id": "9ULZjRcfsFFg",
        "outputId": "393a3837-959b-46a7-838d-45a3962f6bcb"
      },
      "execution_count": null,
      "outputs": [
        {
          "output_type": "stream",
          "name": "stdout",
          "text": [
            "1331 : storage128 gbram6 gbexpandable storage1tb  systemandroid 11processor typequalcomm snapdragon 778gprocessor speed2.4 64mp 12mp 5mp 5mp 64mp 12mp 5mp 5mp 32mp 5g capacity4500 display size16.51 cm (6.5 inch)resolution2400 x 1080 pixelsresolution typefull hd+gpuqualcomm adreno 642ldisplay typefull hd+ super amoled displaydisplay colors16mother display features120hz refresh rate\n",
            "1374 : storage256  systemios 15processor typea15 bionic chip 12mp 12mp 12mp 63mp 12mp 12mp 5g notmentioned display size13.72 cm (5.4 inch)resolution2340 x 1080 pixelsresolution typesuper retina xdr displaydisplay typesuper retina xdr displayother display featuressuper retina xdr display, 5.4‑inch (diagonal) all‑screen oled display, hdr display, true tone, wide colour (p3), haptic touch, 20,00,000:1 contrast ratio (typical), 800 nits max brightness (typical), 1,200 nits max brightness (hdr), fingerprint-resistant oleophobic coating, support for display of multiple languages and characters simultaneously\n",
            "2463 : storage64 gbram4  systemandroid 11processor typemediatek helio g35processor speed2.3 13mp 13mp 2mp 2mp 8mp 8mp 4g capacity5000 display size16.56 cm (6.52 inch)resolution720 x 1600 pixelsresolution typehd+gpuimg ge8320display typehd+ display\n",
            "5 : storage64  systemios 9processor typea9 chip 12mp 5mp 4g notmentioned display size13.97 cm (5.5 inch)resolution1080 x 1920 pixelsresolution typeretina hd displaygpupowervr gt7600 (six-core graphics)display typeled-backlit ips lcddisplay colors16 mother display featuresretina hd display with 3dﾠtouch, led backlit widescreen, 401 ppi, 500 cd/m2 maximum brightness, full srgb standard, dual domain pixels for wide viewing angles, fingerprint resistant oleophobic coating, display zoom, reachability\n",
            "925 : storage128 gbram6 gbexpandable storage256gb  systemandroid 11processor typemediatek helio g85processor speed2 48mp 2mp 2mp 48mp 2mp 2mp 16mp 16mp 4g capacity5000 display size17.65 cm (6.95 inch)resolution2460 x 1080 pixelsresolution typefull hd+display typefull hd+ ips in-cell displayother display features180hz touch sampling rate, neg dinorex t2x-1 glass protection, 20.5:9 aspect ratio, 480 nits brightness, 90.1% screen-to-body ratio, 1500:1 contrast ratio, eye care mode\n",
            "1598 : storage32 gbram2  systemandroid q android 11processor speed1.8 16mp 4g capacity6000 display size16.56 cm (6.52 inch)resolution720 x 1600$$pixels\n"
          ]
        }
      ]
    },
    {
      "cell_type": "code",
      "source": [
        "len(data[\"corpus\"])"
      ],
      "metadata": {
        "colab": {
          "base_uri": "https://localhost:8080/"
        },
        "id": "URKoew2WsLAC",
        "outputId": "5e25673b-3677-4822-9180-df7242e127bd"
      },
      "execution_count": null,
      "outputs": [
        {
          "output_type": "execute_result",
          "data": {
            "text/plain": [
              "2534"
            ]
          },
          "metadata": {},
          "execution_count": 65
        }
      ]
    },
    {
      "cell_type": "code",
      "source": [
        "max_len = 0\n",
        "for i in range(0, len(data['corpus'])):\n",
        "    try:\n",
        "        if len(data['corpus'][i]) > max_len:\n",
        "            max_len = len(data['corpus'][i])\n",
        "    except:\n",
        "        pass\n",
        "\n",
        "print(f'words max len in corpus is: {max_len}')"
      ],
      "metadata": {
        "colab": {
          "base_uri": "https://localhost:8080/"
        },
        "id": "AAmo61SPtVCr",
        "outputId": "c1b14e14-92d8-4b03-9227-5bcdd8fdb0f1"
      },
      "execution_count": null,
      "outputs": [
        {
          "output_type": "stream",
          "name": "stdout",
          "text": [
            "words max len in corpus is: 1196\n"
          ]
        }
      ]
    },
    {
      "cell_type": "code",
      "source": [
        "data.head()"
      ],
      "metadata": {
        "id": "GfeG4mRetkC9",
        "outputId": "e658058a-6aac-4e25-82a8-1a6e1f44e136",
        "colab": {
          "base_uri": "https://localhost:8080/",
          "height": 634
        }
      },
      "execution_count": null,
      "outputs": [
        {
          "output_type": "execute_result",
          "data": {
            "text/plain": [
              "                                        name  ratings    price  \\\n",
              "0  REDMI Note 12 Pro 5G (Onyx Black, 128 GB)      4.2    23999   \n",
              "1        OPPO F11 Pro (Aurora Green, 128 GB)      4.5  ₹20,999   \n",
              "2     REDMI Note 11 (Starburst White, 64 GB)      4.2    13149   \n",
              "3     OnePlus Nord CE 5G (Blue Void, 256 GB)      4.1    21999   \n",
              "4        APPLE iPhone 13 mini (Blue, 128 GB)      4.6     3537   \n",
              "\n",
              "                                              imgURL  \\\n",
              "0  https://rukminim2.flixcart.com/image/312/312/x...   \n",
              "1  https://rukminim2.flixcart.com/image/312/312/k...   \n",
              "2  https://rukminim2.flixcart.com/image/312/312/x...   \n",
              "3  https://rukminim2.flixcart.com/image/312/312/x...   \n",
              "4  https://rukminim2.flixcart.com/image/312/312/k...   \n",
              "\n",
              "                                              corpus  \n",
              "0  storage128 gbram6  systemandroid 12processor t...  \n",
              "1  storage128 gbram6 gbexpandable storage256gb  s...  \n",
              "2  storage64 gbram4  systemandroid 11processor sp...  \n",
              "3  storage256 gbram12  systemandroid q 11processo...  \n",
              "4  storage128  systemios 15processor typea15 bion...  "
            ],
            "text/html": [
              "\n",
              "\n",
              "  <div id=\"df-458590ff-90b5-4750-9f44-802a32a33709\">\n",
              "    <div class=\"colab-df-container\">\n",
              "      <div>\n",
              "<style scoped>\n",
              "    .dataframe tbody tr th:only-of-type {\n",
              "        vertical-align: middle;\n",
              "    }\n",
              "\n",
              "    .dataframe tbody tr th {\n",
              "        vertical-align: top;\n",
              "    }\n",
              "\n",
              "    .dataframe thead th {\n",
              "        text-align: right;\n",
              "    }\n",
              "</style>\n",
              "<table border=\"1\" class=\"dataframe\">\n",
              "  <thead>\n",
              "    <tr style=\"text-align: right;\">\n",
              "      <th></th>\n",
              "      <th>name</th>\n",
              "      <th>ratings</th>\n",
              "      <th>price</th>\n",
              "      <th>imgURL</th>\n",
              "      <th>corpus</th>\n",
              "    </tr>\n",
              "  </thead>\n",
              "  <tbody>\n",
              "    <tr>\n",
              "      <th>0</th>\n",
              "      <td>REDMI Note 12 Pro 5G (Onyx Black, 128 GB)</td>\n",
              "      <td>4.2</td>\n",
              "      <td>23999</td>\n",
              "      <td>https://rukminim2.flixcart.com/image/312/312/x...</td>\n",
              "      <td>storage128 gbram6  systemandroid 12processor t...</td>\n",
              "    </tr>\n",
              "    <tr>\n",
              "      <th>1</th>\n",
              "      <td>OPPO F11 Pro (Aurora Green, 128 GB)</td>\n",
              "      <td>4.5</td>\n",
              "      <td>₹20,999</td>\n",
              "      <td>https://rukminim2.flixcart.com/image/312/312/k...</td>\n",
              "      <td>storage128 gbram6 gbexpandable storage256gb  s...</td>\n",
              "    </tr>\n",
              "    <tr>\n",
              "      <th>2</th>\n",
              "      <td>REDMI Note 11 (Starburst White, 64 GB)</td>\n",
              "      <td>4.2</td>\n",
              "      <td>13149</td>\n",
              "      <td>https://rukminim2.flixcart.com/image/312/312/x...</td>\n",
              "      <td>storage64 gbram4  systemandroid 11processor sp...</td>\n",
              "    </tr>\n",
              "    <tr>\n",
              "      <th>3</th>\n",
              "      <td>OnePlus Nord CE 5G (Blue Void, 256 GB)</td>\n",
              "      <td>4.1</td>\n",
              "      <td>21999</td>\n",
              "      <td>https://rukminim2.flixcart.com/image/312/312/x...</td>\n",
              "      <td>storage256 gbram12  systemandroid q 11processo...</td>\n",
              "    </tr>\n",
              "    <tr>\n",
              "      <th>4</th>\n",
              "      <td>APPLE iPhone 13 mini (Blue, 128 GB)</td>\n",
              "      <td>4.6</td>\n",
              "      <td>3537</td>\n",
              "      <td>https://rukminim2.flixcart.com/image/312/312/k...</td>\n",
              "      <td>storage128  systemios 15processor typea15 bion...</td>\n",
              "    </tr>\n",
              "  </tbody>\n",
              "</table>\n",
              "</div>\n",
              "      <button class=\"colab-df-convert\" onclick=\"convertToInteractive('df-458590ff-90b5-4750-9f44-802a32a33709')\"\n",
              "              title=\"Convert this dataframe to an interactive table.\"\n",
              "              style=\"display:none;\">\n",
              "\n",
              "  <svg xmlns=\"http://www.w3.org/2000/svg\" height=\"24px\"viewBox=\"0 0 24 24\"\n",
              "       width=\"24px\">\n",
              "    <path d=\"M0 0h24v24H0V0z\" fill=\"none\"/>\n",
              "    <path d=\"M18.56 5.44l.94 2.06.94-2.06 2.06-.94-2.06-.94-.94-2.06-.94 2.06-2.06.94zm-11 1L8.5 8.5l.94-2.06 2.06-.94-2.06-.94L8.5 2.5l-.94 2.06-2.06.94zm10 10l.94 2.06.94-2.06 2.06-.94-2.06-.94-.94-2.06-.94 2.06-2.06.94z\"/><path d=\"M17.41 7.96l-1.37-1.37c-.4-.4-.92-.59-1.43-.59-.52 0-1.04.2-1.43.59L10.3 9.45l-7.72 7.72c-.78.78-.78 2.05 0 2.83L4 21.41c.39.39.9.59 1.41.59.51 0 1.02-.2 1.41-.59l7.78-7.78 2.81-2.81c.8-.78.8-2.07 0-2.86zM5.41 20L4 18.59l7.72-7.72 1.47 1.35L5.41 20z\"/>\n",
              "  </svg>\n",
              "      </button>\n",
              "\n",
              "\n",
              "\n",
              "    <div id=\"df-4338cd66-da97-45f5-97eb-547f7805a7b1\">\n",
              "      <button class=\"colab-df-quickchart\" onclick=\"quickchart('df-4338cd66-da97-45f5-97eb-547f7805a7b1')\"\n",
              "              title=\"Suggest charts.\"\n",
              "              style=\"display:none;\">\n",
              "\n",
              "<svg xmlns=\"http://www.w3.org/2000/svg\" height=\"24px\"viewBox=\"0 0 24 24\"\n",
              "     width=\"24px\">\n",
              "    <g>\n",
              "        <path d=\"M19 3H5c-1.1 0-2 .9-2 2v14c0 1.1.9 2 2 2h14c1.1 0 2-.9 2-2V5c0-1.1-.9-2-2-2zM9 17H7v-7h2v7zm4 0h-2V7h2v10zm4 0h-2v-4h2v4z\"/>\n",
              "    </g>\n",
              "</svg>\n",
              "      </button>\n",
              "    </div>\n",
              "\n",
              "<style>\n",
              "  .colab-df-quickchart {\n",
              "    background-color: #E8F0FE;\n",
              "    border: none;\n",
              "    border-radius: 50%;\n",
              "    cursor: pointer;\n",
              "    display: none;\n",
              "    fill: #1967D2;\n",
              "    height: 32px;\n",
              "    padding: 0 0 0 0;\n",
              "    width: 32px;\n",
              "  }\n",
              "\n",
              "  .colab-df-quickchart:hover {\n",
              "    background-color: #E2EBFA;\n",
              "    box-shadow: 0px 1px 2px rgba(60, 64, 67, 0.3), 0px 1px 3px 1px rgba(60, 64, 67, 0.15);\n",
              "    fill: #174EA6;\n",
              "  }\n",
              "\n",
              "  [theme=dark] .colab-df-quickchart {\n",
              "    background-color: #3B4455;\n",
              "    fill: #D2E3FC;\n",
              "  }\n",
              "\n",
              "  [theme=dark] .colab-df-quickchart:hover {\n",
              "    background-color: #434B5C;\n",
              "    box-shadow: 0px 1px 3px 1px rgba(0, 0, 0, 0.15);\n",
              "    filter: drop-shadow(0px 1px 2px rgba(0, 0, 0, 0.3));\n",
              "    fill: #FFFFFF;\n",
              "  }\n",
              "</style>\n",
              "\n",
              "    <script>\n",
              "      async function quickchart(key) {\n",
              "        const containerElement = document.querySelector('#' + key);\n",
              "        const charts = await google.colab.kernel.invokeFunction(\n",
              "            'suggestCharts', [key], {});\n",
              "      }\n",
              "    </script>\n",
              "\n",
              "      <script>\n",
              "\n",
              "function displayQuickchartButton(domScope) {\n",
              "  let quickchartButtonEl =\n",
              "    domScope.querySelector('#df-4338cd66-da97-45f5-97eb-547f7805a7b1 button.colab-df-quickchart');\n",
              "  quickchartButtonEl.style.display =\n",
              "    google.colab.kernel.accessAllowed ? 'block' : 'none';\n",
              "}\n",
              "\n",
              "        displayQuickchartButton(document);\n",
              "      </script>\n",
              "      <style>\n",
              "    .colab-df-container {\n",
              "      display:flex;\n",
              "      flex-wrap:wrap;\n",
              "      gap: 12px;\n",
              "    }\n",
              "\n",
              "    .colab-df-convert {\n",
              "      background-color: #E8F0FE;\n",
              "      border: none;\n",
              "      border-radius: 50%;\n",
              "      cursor: pointer;\n",
              "      display: none;\n",
              "      fill: #1967D2;\n",
              "      height: 32px;\n",
              "      padding: 0 0 0 0;\n",
              "      width: 32px;\n",
              "    }\n",
              "\n",
              "    .colab-df-convert:hover {\n",
              "      background-color: #E2EBFA;\n",
              "      box-shadow: 0px 1px 2px rgba(60, 64, 67, 0.3), 0px 1px 3px 1px rgba(60, 64, 67, 0.15);\n",
              "      fill: #174EA6;\n",
              "    }\n",
              "\n",
              "    [theme=dark] .colab-df-convert {\n",
              "      background-color: #3B4455;\n",
              "      fill: #D2E3FC;\n",
              "    }\n",
              "\n",
              "    [theme=dark] .colab-df-convert:hover {\n",
              "      background-color: #434B5C;\n",
              "      box-shadow: 0px 1px 3px 1px rgba(0, 0, 0, 0.15);\n",
              "      filter: drop-shadow(0px 1px 2px rgba(0, 0, 0, 0.3));\n",
              "      fill: #FFFFFF;\n",
              "    }\n",
              "  </style>\n",
              "\n",
              "      <script>\n",
              "        const buttonEl =\n",
              "          document.querySelector('#df-458590ff-90b5-4750-9f44-802a32a33709 button.colab-df-convert');\n",
              "        buttonEl.style.display =\n",
              "          google.colab.kernel.accessAllowed ? 'block' : 'none';\n",
              "\n",
              "        async function convertToInteractive(key) {\n",
              "          const element = document.querySelector('#df-458590ff-90b5-4750-9f44-802a32a33709');\n",
              "          const dataTable =\n",
              "            await google.colab.kernel.invokeFunction('convertToInteractive',\n",
              "                                                     [key], {});\n",
              "          if (!dataTable) return;\n",
              "\n",
              "          const docLinkHtml = 'Like what you see? Visit the ' +\n",
              "            '<a target=\"_blank\" href=https://colab.research.google.com/notebooks/data_table.ipynb>data table notebook</a>'\n",
              "            + ' to learn more about interactive tables.';\n",
              "          element.innerHTML = '';\n",
              "          dataTable['output_type'] = 'display_data';\n",
              "          await google.colab.output.renderOutput(dataTable, element);\n",
              "          const docLink = document.createElement('div');\n",
              "          docLink.innerHTML = docLinkHtml;\n",
              "          element.appendChild(docLink);\n",
              "        }\n",
              "      </script>\n",
              "    </div>\n",
              "  </div>\n"
            ]
          },
          "metadata": {},
          "execution_count": 68
        }
      ]
    },
    {
      "cell_type": "code",
      "source": [
        "data.isnull().sum()"
      ],
      "metadata": {
        "colab": {
          "base_uri": "https://localhost:8080/"
        },
        "id": "FvtNhI7Hxm4E",
        "outputId": "d2c4c644-06ec-4ceb-960f-35376f9ec8b4"
      },
      "execution_count": null,
      "outputs": [
        {
          "output_type": "execute_result",
          "data": {
            "text/plain": [
              "name       0\n",
              "ratings    0\n",
              "price      0\n",
              "imgURL     0\n",
              "corpus     0\n",
              "dtype: int64"
            ]
          },
          "metadata": {},
          "execution_count": 78
        }
      ]
    },
    {
      "cell_type": "code",
      "source": [
        "data.sample(10)"
      ],
      "metadata": {
        "colab": {
          "base_uri": "https://localhost:8080/",
          "height": 1000
        },
        "id": "UG6no7kJytfd",
        "outputId": "ec2d0276-0c09-4f11-a29c-f57953ad9cfb"
      },
      "execution_count": null,
      "outputs": [
        {
          "output_type": "execute_result",
          "data": {
            "text/plain": [
              "                                                   name  ratings  price  \\\n",
              "1782                     APPLE iPhone XR (Coral, 64 GB)      4.5  17636   \n",
              "561          OnePlus Nord CE 2 5G (Gray Mirror, 128 GB)      4.3  17999   \n",
              "1389        Infinix Zero 5G 2023 (Coral Orange, 128 GB)      4.1  14999   \n",
              "595                 APPLE iPhone 14 (Starlight, 256 GB)      4.6  14463   \n",
              "688              Tecno Camon 20 (Serenity Blue, 256 GB)      4.3  13810   \n",
              "191                     vivo Y91 (Nebula Purple, 32 GB)      4.4  10990   \n",
              "2239           REDMI 11 Prime 5G (Thunder Black, 64 GB)      4.3  14100   \n",
              "1071             MOTOROLA G62 5G (Frosted Blue, 128 GB)      4.1  16499   \n",
              "511   SAMSUNG Galaxy S23 Plus 5G (Phantom Black, 256...      4.3  29463   \n",
              "2459                    APPLE iPhone 11 (Yellow, 64 GB)      4.5  23537   \n",
              "\n",
              "                                                 imgURL  \\\n",
              "1782  https://rukminim2.flixcart.com/image/312/312/k...   \n",
              "561   https://rukminim2.flixcart.com/image/312/312/x...   \n",
              "1389  https://rukminim2.flixcart.com/image/312/312/x...   \n",
              "595   https://rukminim2.flixcart.com/image/312/312/x...   \n",
              "688   https://rukminim2.flixcart.com/image/312/312/x...   \n",
              "191   https://rukminim2.flixcart.com/image/312/312/k...   \n",
              "2239  https://rukminim2.flixcart.com/image/312/312/x...   \n",
              "1071  https://rukminim2.flixcart.com/image/312/312/x...   \n",
              "511   https://rukminim2.flixcart.com/image/312/312/x...   \n",
              "2459  https://rukminim2.flixcart.com/image/312/312/k...   \n",
              "\n",
              "                                                 corpus  \n",
              "1782  storage64  systemios 14.2processor typea12 bio...  \n",
              "561   storage128 gbram8  systemandroid q 11processor...  \n",
              "1389  storage128 gbram8 gbexpandable storage256gb  s...  \n",
              "595   storage256  systemios 16processor typea15 bion...  \n",
              "688   storage256 gbram8 gbexpandable storage1tb  sys...  \n",
              "191   storage32 gbram3 gbexpandable storage256gb  sy...  \n",
              "2239  storage64 gbram4  systemandroid android 12proc...  \n",
              "1071  storage128 gbram8  systemandroid 12processor t...  \n",
              "511   storage256 gbram8  systemandroid 13processor t...  \n",
              "2459  storage64  systemios 14.2processor typea13 bio...  "
            ],
            "text/html": [
              "\n",
              "\n",
              "  <div id=\"df-7f6e932a-01ff-4c6a-9f06-899aeca5bd03\">\n",
              "    <div class=\"colab-df-container\">\n",
              "      <div>\n",
              "<style scoped>\n",
              "    .dataframe tbody tr th:only-of-type {\n",
              "        vertical-align: middle;\n",
              "    }\n",
              "\n",
              "    .dataframe tbody tr th {\n",
              "        vertical-align: top;\n",
              "    }\n",
              "\n",
              "    .dataframe thead th {\n",
              "        text-align: right;\n",
              "    }\n",
              "</style>\n",
              "<table border=\"1\" class=\"dataframe\">\n",
              "  <thead>\n",
              "    <tr style=\"text-align: right;\">\n",
              "      <th></th>\n",
              "      <th>name</th>\n",
              "      <th>ratings</th>\n",
              "      <th>price</th>\n",
              "      <th>imgURL</th>\n",
              "      <th>corpus</th>\n",
              "    </tr>\n",
              "  </thead>\n",
              "  <tbody>\n",
              "    <tr>\n",
              "      <th>1782</th>\n",
              "      <td>APPLE iPhone XR (Coral, 64 GB)</td>\n",
              "      <td>4.5</td>\n",
              "      <td>17636</td>\n",
              "      <td>https://rukminim2.flixcart.com/image/312/312/k...</td>\n",
              "      <td>storage64  systemios 14.2processor typea12 bio...</td>\n",
              "    </tr>\n",
              "    <tr>\n",
              "      <th>561</th>\n",
              "      <td>OnePlus Nord CE 2 5G (Gray Mirror, 128 GB)</td>\n",
              "      <td>4.3</td>\n",
              "      <td>17999</td>\n",
              "      <td>https://rukminim2.flixcart.com/image/312/312/x...</td>\n",
              "      <td>storage128 gbram8  systemandroid q 11processor...</td>\n",
              "    </tr>\n",
              "    <tr>\n",
              "      <th>1389</th>\n",
              "      <td>Infinix Zero 5G 2023 (Coral Orange, 128 GB)</td>\n",
              "      <td>4.1</td>\n",
              "      <td>14999</td>\n",
              "      <td>https://rukminim2.flixcart.com/image/312/312/x...</td>\n",
              "      <td>storage128 gbram8 gbexpandable storage256gb  s...</td>\n",
              "    </tr>\n",
              "    <tr>\n",
              "      <th>595</th>\n",
              "      <td>APPLE iPhone 14 (Starlight, 256 GB)</td>\n",
              "      <td>4.6</td>\n",
              "      <td>14463</td>\n",
              "      <td>https://rukminim2.flixcart.com/image/312/312/x...</td>\n",
              "      <td>storage256  systemios 16processor typea15 bion...</td>\n",
              "    </tr>\n",
              "    <tr>\n",
              "      <th>688</th>\n",
              "      <td>Tecno Camon 20 (Serenity Blue, 256 GB)</td>\n",
              "      <td>4.3</td>\n",
              "      <td>13810</td>\n",
              "      <td>https://rukminim2.flixcart.com/image/312/312/x...</td>\n",
              "      <td>storage256 gbram8 gbexpandable storage1tb  sys...</td>\n",
              "    </tr>\n",
              "    <tr>\n",
              "      <th>191</th>\n",
              "      <td>vivo Y91 (Nebula Purple, 32 GB)</td>\n",
              "      <td>4.4</td>\n",
              "      <td>10990</td>\n",
              "      <td>https://rukminim2.flixcart.com/image/312/312/k...</td>\n",
              "      <td>storage32 gbram3 gbexpandable storage256gb  sy...</td>\n",
              "    </tr>\n",
              "    <tr>\n",
              "      <th>2239</th>\n",
              "      <td>REDMI 11 Prime 5G (Thunder Black, 64 GB)</td>\n",
              "      <td>4.3</td>\n",
              "      <td>14100</td>\n",
              "      <td>https://rukminim2.flixcart.com/image/312/312/x...</td>\n",
              "      <td>storage64 gbram4  systemandroid android 12proc...</td>\n",
              "    </tr>\n",
              "    <tr>\n",
              "      <th>1071</th>\n",
              "      <td>MOTOROLA G62 5G (Frosted Blue, 128 GB)</td>\n",
              "      <td>4.1</td>\n",
              "      <td>16499</td>\n",
              "      <td>https://rukminim2.flixcart.com/image/312/312/x...</td>\n",
              "      <td>storage128 gbram8  systemandroid 12processor t...</td>\n",
              "    </tr>\n",
              "    <tr>\n",
              "      <th>511</th>\n",
              "      <td>SAMSUNG Galaxy S23 Plus 5G (Phantom Black, 256...</td>\n",
              "      <td>4.3</td>\n",
              "      <td>29463</td>\n",
              "      <td>https://rukminim2.flixcart.com/image/312/312/x...</td>\n",
              "      <td>storage256 gbram8  systemandroid 13processor t...</td>\n",
              "    </tr>\n",
              "    <tr>\n",
              "      <th>2459</th>\n",
              "      <td>APPLE iPhone 11 (Yellow, 64 GB)</td>\n",
              "      <td>4.5</td>\n",
              "      <td>23537</td>\n",
              "      <td>https://rukminim2.flixcart.com/image/312/312/k...</td>\n",
              "      <td>storage64  systemios 14.2processor typea13 bio...</td>\n",
              "    </tr>\n",
              "  </tbody>\n",
              "</table>\n",
              "</div>\n",
              "      <button class=\"colab-df-convert\" onclick=\"convertToInteractive('df-7f6e932a-01ff-4c6a-9f06-899aeca5bd03')\"\n",
              "              title=\"Convert this dataframe to an interactive table.\"\n",
              "              style=\"display:none;\">\n",
              "\n",
              "  <svg xmlns=\"http://www.w3.org/2000/svg\" height=\"24px\"viewBox=\"0 0 24 24\"\n",
              "       width=\"24px\">\n",
              "    <path d=\"M0 0h24v24H0V0z\" fill=\"none\"/>\n",
              "    <path d=\"M18.56 5.44l.94 2.06.94-2.06 2.06-.94-2.06-.94-.94-2.06-.94 2.06-2.06.94zm-11 1L8.5 8.5l.94-2.06 2.06-.94-2.06-.94L8.5 2.5l-.94 2.06-2.06.94zm10 10l.94 2.06.94-2.06 2.06-.94-2.06-.94-.94-2.06-.94 2.06-2.06.94z\"/><path d=\"M17.41 7.96l-1.37-1.37c-.4-.4-.92-.59-1.43-.59-.52 0-1.04.2-1.43.59L10.3 9.45l-7.72 7.72c-.78.78-.78 2.05 0 2.83L4 21.41c.39.39.9.59 1.41.59.51 0 1.02-.2 1.41-.59l7.78-7.78 2.81-2.81c.8-.78.8-2.07 0-2.86zM5.41 20L4 18.59l7.72-7.72 1.47 1.35L5.41 20z\"/>\n",
              "  </svg>\n",
              "      </button>\n",
              "\n",
              "\n",
              "\n",
              "    <div id=\"df-fb2e2fb2-00f8-420f-b48a-d369a4572daf\">\n",
              "      <button class=\"colab-df-quickchart\" onclick=\"quickchart('df-fb2e2fb2-00f8-420f-b48a-d369a4572daf')\"\n",
              "              title=\"Suggest charts.\"\n",
              "              style=\"display:none;\">\n",
              "\n",
              "<svg xmlns=\"http://www.w3.org/2000/svg\" height=\"24px\"viewBox=\"0 0 24 24\"\n",
              "     width=\"24px\">\n",
              "    <g>\n",
              "        <path d=\"M19 3H5c-1.1 0-2 .9-2 2v14c0 1.1.9 2 2 2h14c1.1 0 2-.9 2-2V5c0-1.1-.9-2-2-2zM9 17H7v-7h2v7zm4 0h-2V7h2v10zm4 0h-2v-4h2v4z\"/>\n",
              "    </g>\n",
              "</svg>\n",
              "      </button>\n",
              "    </div>\n",
              "\n",
              "<style>\n",
              "  .colab-df-quickchart {\n",
              "    background-color: #E8F0FE;\n",
              "    border: none;\n",
              "    border-radius: 50%;\n",
              "    cursor: pointer;\n",
              "    display: none;\n",
              "    fill: #1967D2;\n",
              "    height: 32px;\n",
              "    padding: 0 0 0 0;\n",
              "    width: 32px;\n",
              "  }\n",
              "\n",
              "  .colab-df-quickchart:hover {\n",
              "    background-color: #E2EBFA;\n",
              "    box-shadow: 0px 1px 2px rgba(60, 64, 67, 0.3), 0px 1px 3px 1px rgba(60, 64, 67, 0.15);\n",
              "    fill: #174EA6;\n",
              "  }\n",
              "\n",
              "  [theme=dark] .colab-df-quickchart {\n",
              "    background-color: #3B4455;\n",
              "    fill: #D2E3FC;\n",
              "  }\n",
              "\n",
              "  [theme=dark] .colab-df-quickchart:hover {\n",
              "    background-color: #434B5C;\n",
              "    box-shadow: 0px 1px 3px 1px rgba(0, 0, 0, 0.15);\n",
              "    filter: drop-shadow(0px 1px 2px rgba(0, 0, 0, 0.3));\n",
              "    fill: #FFFFFF;\n",
              "  }\n",
              "</style>\n",
              "\n",
              "    <script>\n",
              "      async function quickchart(key) {\n",
              "        const containerElement = document.querySelector('#' + key);\n",
              "        const charts = await google.colab.kernel.invokeFunction(\n",
              "            'suggestCharts', [key], {});\n",
              "      }\n",
              "    </script>\n",
              "\n",
              "      <script>\n",
              "\n",
              "function displayQuickchartButton(domScope) {\n",
              "  let quickchartButtonEl =\n",
              "    domScope.querySelector('#df-fb2e2fb2-00f8-420f-b48a-d369a4572daf button.colab-df-quickchart');\n",
              "  quickchartButtonEl.style.display =\n",
              "    google.colab.kernel.accessAllowed ? 'block' : 'none';\n",
              "}\n",
              "\n",
              "        displayQuickchartButton(document);\n",
              "      </script>\n",
              "      <style>\n",
              "    .colab-df-container {\n",
              "      display:flex;\n",
              "      flex-wrap:wrap;\n",
              "      gap: 12px;\n",
              "    }\n",
              "\n",
              "    .colab-df-convert {\n",
              "      background-color: #E8F0FE;\n",
              "      border: none;\n",
              "      border-radius: 50%;\n",
              "      cursor: pointer;\n",
              "      display: none;\n",
              "      fill: #1967D2;\n",
              "      height: 32px;\n",
              "      padding: 0 0 0 0;\n",
              "      width: 32px;\n",
              "    }\n",
              "\n",
              "    .colab-df-convert:hover {\n",
              "      background-color: #E2EBFA;\n",
              "      box-shadow: 0px 1px 2px rgba(60, 64, 67, 0.3), 0px 1px 3px 1px rgba(60, 64, 67, 0.15);\n",
              "      fill: #174EA6;\n",
              "    }\n",
              "\n",
              "    [theme=dark] .colab-df-convert {\n",
              "      background-color: #3B4455;\n",
              "      fill: #D2E3FC;\n",
              "    }\n",
              "\n",
              "    [theme=dark] .colab-df-convert:hover {\n",
              "      background-color: #434B5C;\n",
              "      box-shadow: 0px 1px 3px 1px rgba(0, 0, 0, 0.15);\n",
              "      filter: drop-shadow(0px 1px 2px rgba(0, 0, 0, 0.3));\n",
              "      fill: #FFFFFF;\n",
              "    }\n",
              "  </style>\n",
              "\n",
              "      <script>\n",
              "        const buttonEl =\n",
              "          document.querySelector('#df-7f6e932a-01ff-4c6a-9f06-899aeca5bd03 button.colab-df-convert');\n",
              "        buttonEl.style.display =\n",
              "          google.colab.kernel.accessAllowed ? 'block' : 'none';\n",
              "\n",
              "        async function convertToInteractive(key) {\n",
              "          const element = document.querySelector('#df-7f6e932a-01ff-4c6a-9f06-899aeca5bd03');\n",
              "          const dataTable =\n",
              "            await google.colab.kernel.invokeFunction('convertToInteractive',\n",
              "                                                     [key], {});\n",
              "          if (!dataTable) return;\n",
              "\n",
              "          const docLinkHtml = 'Like what you see? Visit the ' +\n",
              "            '<a target=\"_blank\" href=https://colab.research.google.com/notebooks/data_table.ipynb>data table notebook</a>'\n",
              "            + ' to learn more about interactive tables.';\n",
              "          element.innerHTML = '';\n",
              "          dataTable['output_type'] = 'display_data';\n",
              "          await google.colab.output.renderOutput(dataTable, element);\n",
              "          const docLink = document.createElement('div');\n",
              "          docLink.innerHTML = docLinkHtml;\n",
              "          element.appendChild(docLink);\n",
              "        }\n",
              "      </script>\n",
              "    </div>\n",
              "  </div>\n"
            ]
          },
          "metadata": {},
          "execution_count": 101
        }
      ]
    },
    {
      "cell_type": "code",
      "source": [
        "data[data[\"name\"] == \"NOKIA\"]"
      ],
      "metadata": {
        "colab": {
          "base_uri": "https://localhost:8080/",
          "height": 93
        },
        "id": "1v7xDbIL20vt",
        "outputId": "4cfccc1b-30a8-430f-8be2-eec03206efd7"
      },
      "execution_count": null,
      "outputs": [
        {
          "output_type": "execute_result",
          "data": {
            "text/plain": [
              "Empty DataFrame\n",
              "Columns: [name, ratings, price, imgURL, corpus]\n",
              "Index: []"
            ],
            "text/html": [
              "\n",
              "\n",
              "  <div id=\"df-d74c125d-4e10-4e2b-8bed-f9d605387783\">\n",
              "    <div class=\"colab-df-container\">\n",
              "      <div>\n",
              "<style scoped>\n",
              "    .dataframe tbody tr th:only-of-type {\n",
              "        vertical-align: middle;\n",
              "    }\n",
              "\n",
              "    .dataframe tbody tr th {\n",
              "        vertical-align: top;\n",
              "    }\n",
              "\n",
              "    .dataframe thead th {\n",
              "        text-align: right;\n",
              "    }\n",
              "</style>\n",
              "<table border=\"1\" class=\"dataframe\">\n",
              "  <thead>\n",
              "    <tr style=\"text-align: right;\">\n",
              "      <th></th>\n",
              "      <th>name</th>\n",
              "      <th>ratings</th>\n",
              "      <th>price</th>\n",
              "      <th>imgURL</th>\n",
              "      <th>corpus</th>\n",
              "    </tr>\n",
              "  </thead>\n",
              "  <tbody>\n",
              "  </tbody>\n",
              "</table>\n",
              "</div>\n",
              "      <button class=\"colab-df-convert\" onclick=\"convertToInteractive('df-d74c125d-4e10-4e2b-8bed-f9d605387783')\"\n",
              "              title=\"Convert this dataframe to an interactive table.\"\n",
              "              style=\"display:none;\">\n",
              "\n",
              "  <svg xmlns=\"http://www.w3.org/2000/svg\" height=\"24px\"viewBox=\"0 0 24 24\"\n",
              "       width=\"24px\">\n",
              "    <path d=\"M0 0h24v24H0V0z\" fill=\"none\"/>\n",
              "    <path d=\"M18.56 5.44l.94 2.06.94-2.06 2.06-.94-2.06-.94-.94-2.06-.94 2.06-2.06.94zm-11 1L8.5 8.5l.94-2.06 2.06-.94-2.06-.94L8.5 2.5l-.94 2.06-2.06.94zm10 10l.94 2.06.94-2.06 2.06-.94-2.06-.94-.94-2.06-.94 2.06-2.06.94z\"/><path d=\"M17.41 7.96l-1.37-1.37c-.4-.4-.92-.59-1.43-.59-.52 0-1.04.2-1.43.59L10.3 9.45l-7.72 7.72c-.78.78-.78 2.05 0 2.83L4 21.41c.39.39.9.59 1.41.59.51 0 1.02-.2 1.41-.59l7.78-7.78 2.81-2.81c.8-.78.8-2.07 0-2.86zM5.41 20L4 18.59l7.72-7.72 1.47 1.35L5.41 20z\"/>\n",
              "  </svg>\n",
              "      </button>\n",
              "\n",
              "\n",
              "\n",
              "    <div id=\"df-9c45779a-e2f1-4ef6-b268-6f62b4f9ec92\">\n",
              "      <button class=\"colab-df-quickchart\" onclick=\"quickchart('df-9c45779a-e2f1-4ef6-b268-6f62b4f9ec92')\"\n",
              "              title=\"Suggest charts.\"\n",
              "              style=\"display:none;\">\n",
              "\n",
              "<svg xmlns=\"http://www.w3.org/2000/svg\" height=\"24px\"viewBox=\"0 0 24 24\"\n",
              "     width=\"24px\">\n",
              "    <g>\n",
              "        <path d=\"M19 3H5c-1.1 0-2 .9-2 2v14c0 1.1.9 2 2 2h14c1.1 0 2-.9 2-2V5c0-1.1-.9-2-2-2zM9 17H7v-7h2v7zm4 0h-2V7h2v10zm4 0h-2v-4h2v4z\"/>\n",
              "    </g>\n",
              "</svg>\n",
              "      </button>\n",
              "    </div>\n",
              "\n",
              "<style>\n",
              "  .colab-df-quickchart {\n",
              "    background-color: #E8F0FE;\n",
              "    border: none;\n",
              "    border-radius: 50%;\n",
              "    cursor: pointer;\n",
              "    display: none;\n",
              "    fill: #1967D2;\n",
              "    height: 32px;\n",
              "    padding: 0 0 0 0;\n",
              "    width: 32px;\n",
              "  }\n",
              "\n",
              "  .colab-df-quickchart:hover {\n",
              "    background-color: #E2EBFA;\n",
              "    box-shadow: 0px 1px 2px rgba(60, 64, 67, 0.3), 0px 1px 3px 1px rgba(60, 64, 67, 0.15);\n",
              "    fill: #174EA6;\n",
              "  }\n",
              "\n",
              "  [theme=dark] .colab-df-quickchart {\n",
              "    background-color: #3B4455;\n",
              "    fill: #D2E3FC;\n",
              "  }\n",
              "\n",
              "  [theme=dark] .colab-df-quickchart:hover {\n",
              "    background-color: #434B5C;\n",
              "    box-shadow: 0px 1px 3px 1px rgba(0, 0, 0, 0.15);\n",
              "    filter: drop-shadow(0px 1px 2px rgba(0, 0, 0, 0.3));\n",
              "    fill: #FFFFFF;\n",
              "  }\n",
              "</style>\n",
              "\n",
              "    <script>\n",
              "      async function quickchart(key) {\n",
              "        const containerElement = document.querySelector('#' + key);\n",
              "        const charts = await google.colab.kernel.invokeFunction(\n",
              "            'suggestCharts', [key], {});\n",
              "      }\n",
              "    </script>\n",
              "\n",
              "      <script>\n",
              "\n",
              "function displayQuickchartButton(domScope) {\n",
              "  let quickchartButtonEl =\n",
              "    domScope.querySelector('#df-9c45779a-e2f1-4ef6-b268-6f62b4f9ec92 button.colab-df-quickchart');\n",
              "  quickchartButtonEl.style.display =\n",
              "    google.colab.kernel.accessAllowed ? 'block' : 'none';\n",
              "}\n",
              "\n",
              "        displayQuickchartButton(document);\n",
              "      </script>\n",
              "      <style>\n",
              "    .colab-df-container {\n",
              "      display:flex;\n",
              "      flex-wrap:wrap;\n",
              "      gap: 12px;\n",
              "    }\n",
              "\n",
              "    .colab-df-convert {\n",
              "      background-color: #E8F0FE;\n",
              "      border: none;\n",
              "      border-radius: 50%;\n",
              "      cursor: pointer;\n",
              "      display: none;\n",
              "      fill: #1967D2;\n",
              "      height: 32px;\n",
              "      padding: 0 0 0 0;\n",
              "      width: 32px;\n",
              "    }\n",
              "\n",
              "    .colab-df-convert:hover {\n",
              "      background-color: #E2EBFA;\n",
              "      box-shadow: 0px 1px 2px rgba(60, 64, 67, 0.3), 0px 1px 3px 1px rgba(60, 64, 67, 0.15);\n",
              "      fill: #174EA6;\n",
              "    }\n",
              "\n",
              "    [theme=dark] .colab-df-convert {\n",
              "      background-color: #3B4455;\n",
              "      fill: #D2E3FC;\n",
              "    }\n",
              "\n",
              "    [theme=dark] .colab-df-convert:hover {\n",
              "      background-color: #434B5C;\n",
              "      box-shadow: 0px 1px 3px 1px rgba(0, 0, 0, 0.15);\n",
              "      filter: drop-shadow(0px 1px 2px rgba(0, 0, 0, 0.3));\n",
              "      fill: #FFFFFF;\n",
              "    }\n",
              "  </style>\n",
              "\n",
              "      <script>\n",
              "        const buttonEl =\n",
              "          document.querySelector('#df-d74c125d-4e10-4e2b-8bed-f9d605387783 button.colab-df-convert');\n",
              "        buttonEl.style.display =\n",
              "          google.colab.kernel.accessAllowed ? 'block' : 'none';\n",
              "\n",
              "        async function convertToInteractive(key) {\n",
              "          const element = document.querySelector('#df-d74c125d-4e10-4e2b-8bed-f9d605387783');\n",
              "          const dataTable =\n",
              "            await google.colab.kernel.invokeFunction('convertToInteractive',\n",
              "                                                     [key], {});\n",
              "          if (!dataTable) return;\n",
              "\n",
              "          const docLinkHtml = 'Like what you see? Visit the ' +\n",
              "            '<a target=\"_blank\" href=https://colab.research.google.com/notebooks/data_table.ipynb>data table notebook</a>'\n",
              "            + ' to learn more about interactive tables.';\n",
              "          element.innerHTML = '';\n",
              "          dataTable['output_type'] = 'display_data';\n",
              "          await google.colab.output.renderOutput(dataTable, element);\n",
              "          const docLink = document.createElement('div');\n",
              "          docLink.innerHTML = docLinkHtml;\n",
              "          element.appendChild(docLink);\n",
              "        }\n",
              "      </script>\n",
              "    </div>\n",
              "  </div>\n"
            ]
          },
          "metadata": {},
          "execution_count": 102
        }
      ]
    },
    {
      "cell_type": "code",
      "source": [
        "random_values('imgURL')"
      ],
      "metadata": {
        "colab": {
          "base_uri": "https://localhost:8080/"
        },
        "id": "FqlQost8uDB0",
        "outputId": "fe2d1fbf-213e-405f-8b23-d50abd302556"
      },
      "execution_count": null,
      "outputs": [
        {
          "output_type": "stream",
          "name": "stdout",
          "text": [
            "1590 : https://rukminim2.flixcart.com/image/312/312/k9u8zgw0/mobile/7/j/w/oppo-reno3-pro-cph2035-original-imafrjhzs6wtzsyz.jpeg?q=70\n",
            "1099 : https://rukminim2.flixcart.com/image/312/312/jnj7iq80/mobile/y/q/d/apple-iphone-xr-mry52hn-a-original-imafa6zkfgwpnsgz.jpeg?q=70\n",
            "1697 : https://rukminim2.flixcart.com/image/312/312/k51cpe80pkrrdj/mobile/g/v/p/realme-x-rmx1901-original-imafgzg9f847dpps.jpeg?q=70\n",
            "2238 : https://rukminim2.flixcart.com/image/312/312/kd69z0w0/mobile/a/n/g/mi-redmi-note-9-b086982zkf-original-imafu4qf8gfcutde.jpeg?q=70\n",
            "2229 : https://rukminim2.flixcart.com/image/312/312/xif0q/mobile/c/1/h/-original-imagmg6gcjyuvzvn.jpeg?q=70\n",
            "1213 : https://rukminim2.flixcart.com/image/312/312/xif0q/mobile/9/e/e/-original-imaghx9q5rvcdghy.jpeg?q=70\n"
          ]
        }
      ]
    },
    {
      "cell_type": "code",
      "source": [
        "from sklearn.feature_extraction.text import CountVectorizer"
      ],
      "metadata": {
        "id": "rD9GRQTZvLYj"
      },
      "execution_count": null,
      "outputs": []
    },
    {
      "cell_type": "code",
      "source": [
        "cv = CountVectorizer(max_features = 1000, stop_words = \"english\")"
      ],
      "metadata": {
        "id": "Dv5eUZoPvXB4"
      },
      "execution_count": null,
      "outputs": []
    },
    {
      "cell_type": "code",
      "source": [
        "vectorize_text = cv.fit_transform(data[\"corpus\"])"
      ],
      "metadata": {
        "id": "osj6L-PGvsV-"
      },
      "execution_count": null,
      "outputs": []
    },
    {
      "cell_type": "code",
      "source": [
        "vector = vectorize_text.toarray()"
      ],
      "metadata": {
        "id": "TgZtXVtMzThs"
      },
      "execution_count": null,
      "outputs": []
    },
    {
      "cell_type": "code",
      "source": [
        "cv.get_feature_names_out()"
      ],
      "metadata": {
        "colab": {
          "base_uri": "https://localhost:8080/"
        },
        "id": "Ux214yzyzbJ7",
        "outputId": "b92b7552-fea8-4a26-f8a5-5638fe737b93"
      },
      "execution_count": null,
      "outputs": [
        {
          "output_type": "execute_result",
          "data": {
            "text/plain": [
              "array(['00', '000', '02', '03', '04', '05', '07', '07bother', '08', '09',\n",
              "       '0mp', '0primary', '0processor', '10', '100', '1000', '100000',\n",
              "       '1000000', '1000mhzdisplay', '100mp', '103', '104', '106', '1080',\n",
              "       '1080processor', '1080resolution', '108mp', '10mp', '10processor',\n",
              "       '11', '1100', '1125', '1170', '1179', '11primary', '11processor',\n",
              "       '12', '120', '1200', '1200processor', '120hz', '1242',\n",
              "       '1280processor', '1284', '1290', '12mp', '12primary',\n",
              "       '12processor', '13', '1300', '1330', '1334', '135', '135hz',\n",
              "       '1380', '13mp', '13processor', '14', '1400', '144', '1440',\n",
              "       '144hz', '1480', '14processor', '15', '1500', '1500nits', '1544',\n",
              "       '1560resolution', '15processor', '16', '160', '1600', '16000',\n",
              "       '1600resolution', '1612', '1640', '16mp', '16processor', '18',\n",
              "       '180', '1800', '180hz', '19', '1920', '1920hz', '1processor', '20',\n",
              "       '200', '2000000', '200mp', '20mp', '21', '22', '23', '2340', '24',\n",
              "       '240', '2400', '2400resolution', '2408', '240hz', '2460', '24mp',\n",
              "       '25mm', '25mp', '26', '27', '28', '2d', '2g', '2ghzprocessor',\n",
              "       '2k', '2mm', '2mp', '2processor', '2x', '2xhd', '30', '308display',\n",
              "       '30hz', '32', '326', '32mm', '32mp', '33', '35', '36', '360', '37',\n",
              "       '38', '39', '3d', '3dﾠtouch', '3g', '3ghzprocessor', '3mp', '40',\n",
              "       '400', '400nits', '401', '4096', '41', '420', '420nits',\n",
              "       '425processor', '43', '430', '430nit', '439processor', '44', '440',\n",
              "       '44mm', '44mp', '45', '450', '4500000', '450processor',\n",
              "       '460processor', '46mm', '47', '48', '480', '480hz', '480nits',\n",
              "       '488', '48hz', '48mp', '49', '4g', '4ghzprocessor', '4mp', '50',\n",
              "       '500', '5000000', '500nit', '500nits', '505', '505display',\n",
              "       '505other', '506display', '509display', '50hz', '50mp', '51',\n",
              "       '510other', '512display', '515', '52', '53', '54', '55', '550',\n",
              "       '56', '57', '58', '580', '59', '5d', '5g', '5gprocessor', '5mp',\n",
              "       '60', '600', '60000', '6020processor', '60hz', '60mp', '61', '610',\n",
              "       '610display', '612display', '616display', '618display',\n",
              "       '619display', '62', '620display', '625', '625processor',\n",
              "       '636processor', '63mp', '64', '640', '640display', '642ldisplay',\n",
              "       '64mp', '65', '650', '650display', '66', '660', '660display',\n",
              "       '662processor', '665', '665processor', '67', '675processor',\n",
              "       '67mm', '680', '680processor', '69', '695', '695processor', '6mm',\n",
              "       '6processor', '70', '700', '700processor', '7050processor', '70mm',\n",
              "       '71', '712', '72', '720', '720gprocessor', '720resolution', '73',\n",
              "       '730display', '730processor', '732gprocessor', '74', '740display',\n",
              "       '75', '750', '750gprocessor', '76', '765gprocessor', '77', '778g',\n",
              "       '778gprocessor', '78', '7m', '7mother', '7mp', '7processor', '7t',\n",
              "       '80', '800', '800uprocessor', '81', '810', '8100processor',\n",
              "       '810processor', '82', '828', '83', '84', '85', '850',\n",
              "       '850processor', '855', '855processor', '86', '865processor', '87',\n",
              "       '870processor', '87mm', '88', '888', '888processor', '89', '8mp',\n",
              "       '8processor', '90', '900', '900processor', '90hz', '90nit', '91',\n",
              "       '92', '920processor', '93', '94', '95', '950', '95mm', '96',\n",
              "       '9610processor', '9611', '9611processor', '97', '98', '98mm', '99',\n",
              "       '9processor', '9xm', 'a10', 'a11', 'a20processor', 'a22processor',\n",
              "       'a25processor', 'a618display', 'a9', 'aa', 'access', 'active',\n",
              "       'adaptive', 'adjustment', 'adreno', 'agc', 'aieprocessor',\n",
              "       'amazon', 'ambient', 'amoled', 'amoleddisplay', 'amoledhd',\n",
              "       'amoledother', 'android', 'angle', 'angles', 'anti', 'area',\n",
              "       'arrangement', 'aspect', 'auto', 'backlit', 'based', 'bazel',\n",
              "       'bezel', 'billionother', 'bionic', 'bit', 'blue', 'body', 'border',\n",
              "       'brightness', 'c3', 'camera', 'capacitive', 'capacity1000',\n",
              "       'capacity1440', 'capacity1715', 'capacity2750', 'capacity2915',\n",
              "       'capacity3000', 'capacity3080', 'capacity3180', 'capacity3200',\n",
              "       'capacity3300', 'capacity3400', 'capacity3500', 'capacity3700',\n",
              "       'capacity3900', 'capacity4000', 'capacity4015', 'capacity4020',\n",
              "       'capacity4030', 'capacity4050', 'capacity4100', 'capacity4115',\n",
              "       'capacity4200', 'capacity4230', 'capacity4250', 'capacity4300',\n",
              "       'capacity4400', 'capacity4500', 'capacity4520', 'capacity4600',\n",
              "       'capacity4700', 'capacity4800', 'capacity4830', 'capacity5000',\n",
              "       'capacity5020', 'capacity5160', 'capacity6000', 'capacity7000',\n",
              "       'capacity800', 'care', 'cd', 'cell', 'celldisplay', 'cellother',\n",
              "       'certification', 'certified', 'channel', 'characters', 'chip',\n",
              "       'clear', 'clock', 'cm', 'coating', 'cof', 'cog', 'color',\n",
              "       'coloros', 'colorother', 'colors', 'colors1', 'colors10',\n",
              "       'colors16', 'colors16m', 'colors16mother', 'colors65',\n",
              "       'colorscontrast', 'colour', 'comfort', 'contrast', 'control',\n",
              "       'core', 'coredisplay', 'coreocta', 'coreprocessor', 'corning',\n",
              "       'cover', 'coverage', 'curved', 'cut', 'dc', 'dci', 'degree',\n",
              "       'design', 'designed', 'dewdrop', 'diagonal', 'dimensity',\n",
              "       'dimming', 'dinorex', 'display', 'displaydisplay', 'displaygpu4',\n",
              "       'displaygpu5', 'displaygpuadreno', 'displaygpuarm',\n",
              "       'displaygpupowervr', 'displaygpuqualcomm', 'displayhd',\n",
              "       'displaymate', 'displayother', 'dolby', 'domain', 'dot', 'dual',\n",
              "       'dynamic', 'e3', 'edge', 'edition', 'enhancer', 'experience',\n",
              "       'exynos', 'eye', 'f01', 'face', 'faster', 'features120',\n",
              "       'features1200nits', 'features120hz', 'features1300',\n",
              "       'features1400', 'features16', 'features180', 'features180hz',\n",
              "       'features19', 'features2', 'features20', 'features2k', 'features6',\n",
              "       'features60', 'features89', 'features90', 'features90hz',\n",
              "       'featuresadaptive', 'featuresaspect', 'featuresbezel',\n",
              "       'featurescontrast', 'featurescorning', 'featuresdisplay',\n",
              "       'featuresdolby', 'featuresdual', 'featuresdynamic',\n",
              "       'featuresfullview', 'featureshalo', 'featureshdr', 'featuresin',\n",
              "       'featuresips', 'featuresled', 'featuresmulti', 'featuresnarrow',\n",
              "       'featureson', 'featuresrefresh', 'featuresretina',\n",
              "       'featuresscreen', 'featuressuper', 'featurestouch',\n",
              "       'featuresvideo', 'featureswidescreen', 'fhd', 'film', 'finger',\n",
              "       'fingerprint', 'fluiddisplay', 'fps', 'frame', 'frequencygsm',\n",
              "       'fullview', 'fusion', 'g25processor', 'g35processor',\n",
              "       'g37processor', 'g52', 'g52display', 'g52hd', 'g57', 'g57display',\n",
              "       'g610', 'g68', 'g68display', 'g70processor', 'g71', 'g72', 'g76',\n",
              "       'g76display', 'g77', 'g77display', 'g80processor', 'g85processor',\n",
              "       'g88processor', 'g90tprocessor', 'g95processor', 'g96processor',\n",
              "       'g99processor', 'game', 'gameplay', 'gamut', 'gbexpandable',\n",
              "       'gbram1', 'gbram12', 'gbram128', 'gbram16', 'gbram2', 'gbram3',\n",
              "       'gbram4', 'gbram6', 'gbram8', 'gbtotal', 'ge8230display', 'ge8320',\n",
              "       'ge8320display', 'ge8320other', 'ge8322display', 'gen',\n",
              "       'generation', 'gentle', 'gestures', 'gff', 'gg3', 'gg5', 'ghz',\n",
              "       'ghzprocessor', 'glass', 'goprocessor', 'gorilla', 'gpu',\n",
              "       'gpuadreno', 'gpuarm', 'gpuge8320display', 'gpuimagination',\n",
              "       'gpuimg', 'gpumali', 'gpupowervr', 'gpuqualcomm', 'graphics',\n",
              "       'gt7600', 'halo', 'haptic', 'hbm', 'hd', 'hdgpuadreno', 'hdgpuarm',\n",
              "       'hdgpumali', 'hdr', 'hdr10', 'helio', 'high', 'hios', 'hole',\n",
              "       'holitech', 'hp8', 'hz', 'improved', 'incell', 'inch', 'increase',\n",
              "       'infinity', 'intensive', 'ion', 'ips', 'ipsdisplay', 'ipsother',\n",
              "       'island', 'jdi', 'kitkat', 'languages', 'layer', 'lcd',\n",
              "       'lcddisplay', 'lcdhd', 'lcdother', 'led', 'left', 'level', 'light',\n",
              "       'liquid', 'local', 'lollipop', 'low', 'lower', 'ltps', 'm2',\n",
              "       'main', 'mali', 'marshmallow', 'material', 'max', 'maximum',\n",
              "       'mbram4', 'mc2', 'mc2display', 'mc3display', 'mc4', 'mc4display',\n",
              "       'mc6display', 'mc9display', 'mediatek', 'memc', 'memory128gb',\n",
              "       'memory64gb', 'metal', 'mhz', 'mhzdisplay', 'mhzother',\n",
              "       'millionother', 'min', 'minimum', 'miui', 'mm', 'mn228', 'mobile',\n",
              "       'mode', 'mother', 'motion', 'mp1display', 'mp2display', 'mp3',\n",
              "       'mp3display', 'mp4display', 'mp5display', 'mt6739processor',\n",
              "       'mt6750', 'mt6762processor', 'mt6765', 'mt6771v', 'mtk6737',\n",
              "       'multi', 'multiple', 'nano', 'narrow', 'neg', 'new', 'night',\n",
              "       'nit', 'nits', 'nm', 'normal', 'notch', 'notmentioned', 'nougat',\n",
              "       'ntsc', 'octa', 'oled', 'oleophobic', 'oleophpbic', 'oncell',\n",
              "       'oneplus', 'optimised', 'oreo', 'os', 'outdoor', 'outside',\n",
              "       'oxygen', 'oxygenos', 'oxygenosprocessor', 'p22', 'p22processor',\n",
              "       'p2i', 'p3', 'p35', 'p35processor', 'p60', 'p70', 'p70processor',\n",
              "       'p95processor', 'panda', 'panel', 'peak', 'percent', 'performance',\n",
              "       'peripheral', 'phone', 'pie', 'pixel', 'pixelgpuadreno',\n",
              "       'pixelresolution', 'pixels', 'pixelsdisplay', 'pixelsgpuadreno',\n",
              "       'pixelsgpuapple', 'pixelsgpuarm', 'pixelsresolution',\n",
              "       'platformprocessor', 'playback', 'plusprocessor', 'points',\n",
              "       'poled', 'powervr', 'powervrdisplay', 'ppi', 'print', 'pro',\n",
              "       'process', 'processor', 'processorprocessor', 'promotion', 'proof',\n",
              "       'proportion', 'protected', 'protection', 'protective', 'pwm',\n",
              "       'pwm2160hz', 'quad', 'rate', 'rates', 'ratio', 'rdother',\n",
              "       'reachability', 'reading', 'refresh', 'repellent', 'resistant',\n",
              "       'resolution', 'resolution1080', 'resolution1080x2400',\n",
              "       'resolution1136', 'resolution128', 'resolution1280',\n",
              "       'resolution1334', 'resolution1440', 'resolution1520',\n",
              "       'resolution1560', 'resolution1600', 'resolution1600x720',\n",
              "       'resolution1612', 'resolution1640', 'resolution1650',\n",
              "       'resolution1650x720', 'resolution1792', 'resolution1920',\n",
              "       'resolution1920x1080', 'resolution2160', 'resolution2160x1080',\n",
              "       'resolution2280', 'resolution2340', 'resolution2376',\n",
              "       'resolution2400', 'resolution2400x1080', 'resolution2404',\n",
              "       'resolution2408', 'resolution2412', 'resolution2436',\n",
              "       'resolution2460', 'resolution2480', 'resolution2532',\n",
              "       'resolution2556', 'resolution2640', 'resolution2688',\n",
              "       'resolution2778', 'resolution2796', 'resolution2960',\n",
              "       'resolution3088', 'resolution3216', 'resolution3216x1440',\n",
              "       'resolution720', 'resolution720x1600', 'resolution750', 'retina',\n",
              "       'rheinland', 'right', 's5e3830', 's5e8535', 'samoled', 'sampling',\n",
              "       'samsung', 'saturation', 'sc9863a1processor', 'schott', 'scratch',\n",
              "       'screen', 'sdm450', 'sealing', 'seamless', 'sensor', 'sgs', 'si',\n",
              "       'simultaneously', 'size', 'size10', 'size11', 'size12', 'size13',\n",
              "       'size14', 'size15', 'size16', 'size17', 'size19', 'size3', 'size5',\n",
              "       'slim', 'smart', 'smooth', 'snapdragon', 'space', 'speed1',\n",
              "       'speed120', 'speed2', 'speed208', 'speed3', 'speed90', 'splash',\n",
              "       'srgb', 'standard', 'static', 'storage1024', 'storage128',\n",
              "       'storage128gb', 'storage16', 'storage1tb', 'storage2',\n",
              "       'storage256', 'storage256gb', 'storage2tb', 'storage32',\n",
              "       'storage32gb', 'storage512', 'storage512gb', 'storage6',\n",
              "       'storage64', 'storage8', 'stroboscopic', 'sunlight', 'sunshine',\n",
              "       'super', 'supplier', 'support', 'supports', 'supportyes',\n",
              "       'supportyesdisplay', 'supportyesother', 'sync', 'systemandroid',\n",
              "       'systemandroidprocessor', 'systemios', 't2x', 't606processor',\n",
              "       't610processor', 't612processor', 't616processor', 't830', 'tap',\n",
              "       'technology', 'technologyhd', 'technologyother', 'temperature',\n",
              "       'texture', 'tft', 'tftother', 'tone', 'touch', 'tp', 'true', 'tuv',\n",
              "       'typ', 'type', 'type2', 'typea10', 'typea11', 'typea12', 'typea13',\n",
              "       'typea14', 'typea15', 'typea16', 'typea6', 'typea8', 'typea9',\n",
              "       'typeall', 'typeamoled', 'typeamoleddisplay', 'typeamoledother',\n",
              "       'typeapple', 'typecapacitive', 'typedimensity', 'typedotdisplayhd',\n",
              "       'typedynamic', 'typeexynos', 'typefhd', 'typefluid', 'typefull',\n",
              "       'typeg37processor', 'typehd', 'typehddisplay', 'typehdgpuadreno',\n",
              "       'typehdgpumali', 'typehelio', 'typein', 'typeips', 'typeipsother',\n",
              "       'typelcdhd', 'typeled', 'typeli', 'typeliquid', 'typemediatek',\n",
              "       'typemt6763tprocessor', 'typemtk', 'typeocta', 'typepls',\n",
              "       'typequad', 'typequalcomm', 'typeretina', 'typesamsung', 'typesec',\n",
              "       'typesnapdragon', 'typesuper', 'typetft', 'typetftdisplay',\n",
              "       'typetfthd', 'typetftother', 'typeunisoc', 'typewidescreen',\n",
              "       'typical', 'tüv', 'ultra', 'unlock', 'upper', 'upto', 'usb',\n",
              "       'v11processor', 'value', 'victus', 'view', 'viewing', 'vision',\n",
              "       'visuals', 'vivid', 'wake', 'water', 'waterdrop', 'wide',\n",
              "       'widescreen', 'xdr', 'xensation', 'zoom'], dtype=object)"
            ]
          },
          "metadata": {},
          "execution_count": 90
        }
      ]
    },
    {
      "cell_type": "code",
      "source": [
        "from sklearn.metrics.pairwise import cosine_similarity"
      ],
      "metadata": {
        "id": "MdFiQUdQzq_H"
      },
      "execution_count": null,
      "outputs": []
    },
    {
      "cell_type": "code",
      "source": [
        "similarity = cosine_similarity(vector)"
      ],
      "metadata": {
        "id": "90YIgYAu0uAs"
      },
      "execution_count": null,
      "outputs": []
    },
    {
      "cell_type": "code",
      "source": [
        "similarity"
      ],
      "metadata": {
        "colab": {
          "base_uri": "https://localhost:8080/"
        },
        "id": "mQtBwReF1Aie",
        "outputId": "43fd4643-4d99-4c81-b15f-660bae68cd71"
      },
      "execution_count": null,
      "outputs": [
        {
          "output_type": "execute_result",
          "data": {
            "text/plain": [
              "array([[1.        , 0.24773126, 0.35556531, ..., 0.32593487, 0.23493769,\n",
              "        0.58806808],\n",
              "       [0.24773126, 1.        , 0.1573779 , ..., 0.27541132, 0.0891313 ,\n",
              "        0.22479305],\n",
              "       [0.35556531, 0.1573779 , 1.        , ..., 0.58823529, 0.19988898,\n",
              "        0.42452948],\n",
              "       ...,\n",
              "       [0.32593487, 0.27541132, 0.58823529, ..., 1.        , 0.19988898,\n",
              "        0.38915203],\n",
              "       [0.23493769, 0.0891313 , 0.19988898, ..., 0.19988898, 1.        ,\n",
              "        0.24043317],\n",
              "       [0.58806808, 0.22479305, 0.42452948, ..., 0.38915203, 0.24043317,\n",
              "        1.        ]])"
            ]
          },
          "metadata": {},
          "execution_count": 93
        }
      ]
    },
    {
      "cell_type": "code",
      "source": [
        "sorted(list(enumerate(similarity[0])),reverse=True,key=lambda x:x[1])[1:11]"
      ],
      "metadata": {
        "colab": {
          "base_uri": "https://localhost:8080/"
        },
        "id": "rycF6zmx1NY0",
        "outputId": "922518fd-dcb5-4815-f12f-054350ec38c4"
      },
      "execution_count": null,
      "outputs": [
        {
          "output_type": "execute_result",
          "data": {
            "text/plain": [
              "[(68, 0.9999999999999997),\n",
              " (303, 0.9999999999999997),\n",
              " (616, 0.9850746268656714),\n",
              " (1461, 0.9850746268656714),\n",
              " (457, 0.970149253731343),\n",
              " (1027, 0.970149253731343),\n",
              " (1735, 0.970149253731343),\n",
              " (569, 0.9468131937613655),\n",
              " (1123, 0.9468131937613655),\n",
              " (1540, 0.9468131937613655)]"
            ]
          },
          "metadata": {},
          "execution_count": 94
        }
      ]
    },
    {
      "cell_type": "code",
      "source": [
        "def recommend(mobile):\n",
        "    index = data[data['name']==mobile].index[0]\n",
        "    similarity_array = similarity[index]\n",
        "    similar = sorted(list(enumerate(similarity_array)),reverse=True,key=lambda x:x[1])[1:6]\n",
        "\n",
        "    for i in similar:\n",
        "        print(data['name'].iloc[i[0]])"
      ],
      "metadata": {
        "id": "Bv_93ty91S5Q"
      },
      "execution_count": null,
      "outputs": []
    },
    {
      "cell_type": "code",
      "source": [
        "recommend('SAMSUNG Galaxy M53 5G (Emerald Brown, 128 GB)')"
      ],
      "metadata": {
        "colab": {
          "base_uri": "https://localhost:8080/"
        },
        "id": "r8_L4n0Q16G8",
        "outputId": "d2591323-e5e1-4dff-8ac0-f781dcb585bf"
      },
      "execution_count": null,
      "outputs": [
        {
          "output_type": "stream",
          "name": "stdout",
          "text": [
            "OnePlus 9 5G (Arctic Sky, 256 GB)\n",
            "OnePlus 8T 5G (Lunar Silver, 256 GB)\n",
            "OnePlus 9 5G (Winter Mist, 256 GB)\n",
            "OnePlus 9R 5G (Lake Blue, 256 GB)\n",
            "OnePlus 8T 5G (Aquamarine Green, 256 GB)\n"
          ]
        }
      ]
    }
  ],
  "metadata": {
    "colab": {
      "provenance": [],
      "include_colab_link": true
    },
    "kernelspec": {
      "display_name": "Python 3",
      "name": "python3"
    }
  },
  "nbformat": 4,
  "nbformat_minor": 0
}